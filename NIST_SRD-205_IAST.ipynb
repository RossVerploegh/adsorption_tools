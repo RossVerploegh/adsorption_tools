{
 "cells": [
  {
   "cell_type": "markdown",
   "metadata": {
    "collapsed": true
   },
   "source": [
    "# Description and Software Disclaimer"
   ]
  },
  {
   "cell_type": "markdown",
   "metadata": {},
   "source": [
    "Title: NIST SRD-205 IAST Calculator\n",
    "\n",
    "Software Description: This notebook utilizes single-component isotherms in the NIST/ARPA-E Database of Novel Adsorbent Materials (http://adsorption.nist.gov/srd205) to estimate multicomponent adsorption characteristics using Ideal Adsorbed Solution Theory.\n",
    "\n",
    "Author: Daniel W. Siderius, PhD\n",
    "\n",
    "------------VERSION HISTORY----------------\n",
    "\n",
    "2017-07-31:   v 1.0 (initial release)\n",
    "\n",
    "------------SOFTWARE DISCLAIMER AND REDISTRIBUTION CONDITIONS----------------\n",
    "\n",
    "This software was developed at the National Institute of Standards and Technology by employees of the Federal Government in the course of their official duties. Pursuant to Title 17 Section 105 of the United States Code this software is not subject to copyright protection and is in the public domain. This software is an experimental system. NIST assumes no responsibility whatsoever for its use by other parties, and makes no guarantees, expressed or implied, about its quality, reliability, or any other characteristic. We would appreciate acknowledgement if the software is used.\n",
    "\n",
    "This software can be redistributed and/or modified freely provided that any derivative works bear some notice that they are derived from it, and any modified versions bear some notice that they have been modified.\n",
    "\n",
    "------------DECLARATION OF CONFLICTING INTERESTS----------------\n",
    "\n",
    "Certain commercially available items may be identified in this paper. This identification does not imply recommendation by NIST, nor does it imply that it is the best available for the purposes described."
   ]
  },
  {
   "cell_type": "markdown",
   "metadata": {},
   "source": [
    "## User Guide"
   ]
  },
  {
   "cell_type": "markdown",
   "metadata": {},
   "source": [
    "### Preface\n",
    "This notebook uses the pyIAST package to apply \"Ideal Adsorbed Solution Theory\" (IAST) equations to the calculation of multicomponent adsorption isotherms from single-component adsorption isotherms. End-users should consult the pyIAST documentation (https://github.com/CorySimon/pyIAST, http://pyiast.readthedocs.io/en/latest/) to understand its syntax and warning codes.\n",
    "\n",
    "This notebook is not an explanation of IAST; most of the IAST operations are done by the pyIAST package and, hence, are hidden from the user. For a discussion of IAST, one may consult the following references:\n",
    "1. \"Thermodynamics of Mixed-Gas Adsorption,\" A. L. Myers and J. M. Prausnitz, AIChE J., vol. 11, pp. 121-127 (1964).\n",
    "2. \"Effects of Molecular Siting and Adsorbent Heterogeneity on the Ideality of Adsorption Equilibria,\" M. Murthi and R. Q. Snurr, Langmuir, vol. 20, pp. 2489-2497 (2004).\n",
    "3. \"An Ideal Absorbed Solution Theory (IAST) Study of Adsorption Equilibria of Binary Mixtures of Methane and Ethane on a Templated Carbon,\" J. Chen, L. S. Loo, and K. WAng, J. Chem. Eng. Data, vol. 56, pp 1209-121 (2011).\n",
    "\n",
    "As of 2017-07-31, pyIAST requires Python 3.x. The end user is responsible for installing Python 3.x and then confirming that pyIAST is loaded properly. Also, since it is not possible to automatically select an isotherm model for fitting an experimental isotherm; the end user must ensure that the selected model or isotherm fit adequately represents the input isotherm data. The different isotherm models available in pyIAST may be accessed by running \n",
    "\n",
    "pyiast._MODELS\n",
    "\n",
    "### Usage\n",
    "This notebook is intended as an example of how to use IAST in conjunction with isotherms served by the NIST SRD-205 application programming interface (API); actual use may require extensive modification of the Python code that follows as certain assumptions have been built-in to the code, though those assumptions will be pointed out. Use of this notebook follows the general sequence that follows, with each element corresponding to a major heading of the notebook below:\n",
    "1. Import Required Python Packages\n",
    "   This step simply imports the supporting packages required by the notebook\n",
    "   \n",
    "2. Define Custom Classes\n",
    "   This step defines a custom class that is used to abstract the isotherm data from the SRD-205 API.\n",
    "\n",
    "3. User Selection of Pure-Component Isotherms\n",
    "   In this step, the user must identify the single-component isotherms that will be used for IAST. \n",
    "\n",
    "4. Select Isotherm Constants\n",
    "   In this step, the user selects whether the IAST calculation is with an adsorptive isopleth (constant composition of the adsorptive phase, while the its pressure changes) or an adsorptive isobar (constant pressure of the adsorption phase, while its composition changes). The adsorptive composition must be set either 1) once for isopleth operation or 2) multiply [essentially, for each isotherm point] for isobar operation. Similarly, the adsorptive pressure must be set either 1) multiply [essentially, for each isotherm point] for isopleth operation or 2) once for isobar operation. In this notebook, composition is assumed to be given in mole fractions.\n",
    "   \n",
    "5. Instantiate Isotherms and Conduct Basic Error Checks\n",
    "   This step create the isotherm objects based on the class definition in Step 2, and then performs basic tests to ensure thermodynamic consistency needed for the IAST calculations.\n",
    "\n",
    "6. Common pyIAST Operations\n",
    "   This step creates the Pandas dataframe objects based on the single-component isotherms defined in Step 3 and imported in Step 5.\n",
    "   \n",
    "7. a) Isopleth Calculation\n",
    "   <br> This step (if \"isopleth\" operation has been selected) performs IAST calculations for multicomponent adsorption, in which the adsorptive phase composition is held fixed. The pressure of the adsorptive phase necessarily changes.\n",
    "   <br>b) Isobar Calculation\n",
    "   <br>This step (if \"isobar\" operation has been selected) performs IAST calculations for multicomponent adsorption, in which the adsorptive phase pressure is held fixed. The adsorptive composition changes according to the compositions defined in Step 4\n",
    "\n",
    "### Warnings\n",
    "1. This notebook conducts some basic checks:\n",
    "   <br>1) Compatible pressure units across the source single-component isotherms\n",
    "   <br>2) Compatible adsorption units across the source single-component isotherms\n",
    "   <br>3) Same adsorbent across the source single-component isotherms\n",
    "   <br>4) Ensuring that the composition list matches the number of source isotherms\n",
    " \n",
    "   These checks can, of course, be overridden. IAST may, then, yield nonsensical results.\n",
    "\n",
    "2. Units of input isotherms can be modified to be compatible. An end user is responsible for writing the code to make those conversions.\n",
    "\n",
    "3. In principle, IAST can operate on any set of single-component adsorption isotherms measured at the same temperature; it does not check whether the adsorbent material is consistent between those source isotherms. Therefore, a user could apply IAST to single-component isotherms from different materials."
   ]
  },
  {
   "cell_type": "markdown",
   "metadata": {},
   "source": [
    "# 1. Import Python Packages"
   ]
  },
  {
   "cell_type": "code",
   "execution_count": 1,
   "metadata": {
    "collapsed": true
   },
   "outputs": [],
   "source": [
    "#NOTE: This tool uses the pyIAST package, which requires Python 3.x.\n",
    "#End User is responsible for installation of missing packages using an appropriate Python package manager\n",
    "\n",
    "%matplotlib inline\n",
    "import numpy as np\n",
    "import pandas as pd\n",
    "import matplotlib.pyplot as plt\n",
    "import pyiast\n",
    "import json\n",
    "import requests\n",
    "import itertools\n",
    "\n",
    "#Uncomment the following lines to suppress warnings\n",
    "#import warnings ; warnings.filterwarnings('ignore')"
   ]
  },
  {
   "cell_type": "markdown",
   "metadata": {},
   "source": [
    "## 2. Define Custom Classes"
   ]
  },
  {
   "cell_type": "code",
   "execution_count": 2,
   "metadata": {
    "collapsed": false
   },
   "outputs": [],
   "source": [
    "#Defines an isotherm object class\n",
    "#NOTE: This class definition must be rewritten after the 2017 isotherm standard (multicomponent-capable)\n",
    "# has been implemented in the SRD-205 API\n",
    "class SRD205_isotherm:\n",
    "    def __init__(self,filename):\n",
    "        host='adsorbents.nist.gov'\n",
    "        URL = 'http://'+host+'/api/isotherm/'+filename\n",
    "        isotherm_JSON = json.loads(requests.get(URL).content)\n",
    "        self.filename = filename\n",
    "        self.pressureUnits = isotherm_JSON[\"pressureUnits\"]\n",
    "        self.adsorptionUnits = isotherm_JSON[\"adsorptionUnits\"]\n",
    "        self.p_label = \"Pressure (\"+self.pressureUnits+\")\"\n",
    "        self.ads_label = \"Loading (\"+self.adsorptionUnits+\")\"\n",
    "        self.p_list = [ point[\"pressure\"] for point in isotherm_JSON[\"isotherm_data\"] ]\n",
    "        self.ads_list = [ point[\"adsorption\"] for point in isotherm_JSON[\"isotherm_data\"] ]\n",
    "        self.adsorbate = { \"Name\": isotherm_JSON[\"adsorbateGas\"], \n",
    "                          \"InChIKey\": isotherm_JSON[\"InChIKey\"] }\n",
    "        self.adsorbent = { \"Name\": isotherm_JSON[\"adsorbentMaterial\"], \n",
    "                          \"hashkey\": isotherm_JSON[\"hashkey\"] }"
   ]
  },
  {
   "cell_type": "markdown",
   "metadata": {},
   "source": [
    "## 3. User Selection of Pure-Component Isotherms"
   ]
  },
  {
   "cell_type": "code",
   "execution_count": 3,
   "metadata": {
    "collapsed": false
   },
   "outputs": [],
   "source": [
    "#Instructions:\n",
    "#1. Select pure-component isotherms from NIST SRD-205, by their SRD-205 filename, defined as string variables.\n",
    "#2. Assemble the pure-component isotherm string variables into a list named \"isotherm_files\"\n",
    "#3. Specify the Isotherm Fitting Models (available models listed via the \"pyiast._MODELS\" command) for the\n",
    "#   pure-component isotherms in a list named \"models\"\n",
    "\n",
    "#Select the Isotherm Files\n",
    "isotherm1 = '10.1002chem.200902144.Isotherm4.json' #CH4 on ZIF-8 @ 303K http://dx.doi.org/10.1002/chem.200902144\n",
    "isotherm2 = '10.1002chem.200902144.Isotherm5.json' #CO2 on ZIF-8 @ 303K http://dx.doi.org/10.1002/chem.200902144\n",
    "isotherm3 = '10.1002chem.200902144.Isotherm6.json' #N2  on ZIF-8 @ 303K http://dx.doi.org/10.1002/chem.200902144\n",
    "\n",
    "#Assemble the isotherm filenames into a list\n",
    "isotherm_files = [ isotherm1, isotherm2, isotherm3 ]\n",
    "\n",
    "#Specify the Isotherm Fitting Models (Langmuir,)\n",
    "model1 = \"Langmuir\"\n",
    "model2 = \"Langmuir\"\n",
    "model3 = \"Langmuir\"\n",
    "models = [model1, model2, model3]"
   ]
  },
  {
   "cell_type": "markdown",
   "metadata": {},
   "source": [
    "## 4. Select Isotherm Constants"
   ]
  },
  {
   "cell_type": "code",
   "execution_count": 18,
   "metadata": {
    "collapsed": true
   },
   "outputs": [],
   "source": [
    "#Instructions: Specify the multicomponent isotherm type, either \"Isopleth\" or \"Isobar\",\n",
    "#  in the string variable \"isotherm_type\"\n",
    "#  A. Isopleth (Fixed composition multicomponent isotherm, with varying total pressure)\n",
    "#     1. User must specify the species mole fractions, in a list named \"composition\"\n",
    "#  B. Isobar (Fixed pressure multicomponent isotherm, with varying composition)\n",
    "#     1. User must specify the total pressure in the variable \"Pressure\" (float)\n",
    "#     2. User must specify the species mole fractions, in an array of size (points)x(number of species)\n",
    "#     3. User must specify the xaxis for isotherm and selectivity plots, in a list of length (points+1)\n",
    "#  C. User must comment out (with #) the block of code for the unused isotherm type\n",
    "\n",
    "\n",
    "#-----------ISOPLETH TYPE ISOTHERM---------------------------\n",
    "#Isopleth Isotherm type (constant adsorptive composition)\n",
    "#isotherm_type = \"Isopleth\"\n",
    "#composition = [0.05, 0.45, 0.50] #Mole Fractions\n",
    "#------------------------------------------------------------\n",
    "\n",
    "#-----------ISOBAR TYPE ISOTHERM-----------------------------\n",
    "#Isobar Isotherm type (constant total adsorptive pressure)\n",
    "isotherm_type = \"Isobar\"\n",
    "Pressure = 10.0 #Same units as input isotherms (default: bar)\n",
    "points = 10; composition = []\n",
    "for i in range(points):\n",
    "    composition.append( [0.05, 0.01+(0.94-0.01)*float(i)/float(points-1), 0.94+(0.01-0.94)*float(i)/float(points-1)])\n",
    "xaxis = [composition[k][1] for k in range(points)] #Choose the x-axis, appropriate the composition variation\n",
    "#------------------------------------------------------------"
   ]
  },
  {
   "cell_type": "markdown",
   "metadata": {},
   "source": [
    "## 5. Instantiate Isotherms and Conduct Basic Error Checks"
   ]
  },
  {
   "cell_type": "code",
   "execution_count": 20,
   "metadata": {
    "collapsed": false
   },
   "outputs": [
    {
     "name": "stdout",
     "output_type": "stream",
     "text": [
      "ESSENTIAL SYSTEM CHECKS: \n",
      "Pressure units are compatible: bar\n",
      "Adsorption units are compatible: mmol/g\n",
      "Same material is specified: ZIF-8\n",
      "\n",
      "Adsorbate Species\n",
      " Species 1 : Methane\n",
      " Species 2 : Carbon Dioxide\n",
      " Species 3 : Nitrogen\n",
      "\n",
      "Composition list size matches number of species\n",
      "\n",
      "Composition list meets numerical tolerance 0.001\n"
     ]
    }
   ],
   "source": [
    "#Instructions: This block of code should not be altered unless a user is\n",
    "# overriding an error check\n",
    "\n",
    "#Instantiate the pure-component isotherms\n",
    "isotherms = [ SRD205_isotherm(file) for file in isotherm_files ]\n",
    "num_species = len(isotherms)\n",
    "spec_pairs = list(itertools.combinations(range(num_species), 2))\n",
    "\n",
    "#Basic System Checks:\n",
    "print( 'ESSENTIAL SYSTEM CHECKS: ')\n",
    "\n",
    "# Confirm that pressure units are consistent\n",
    "pressure_units = [ isotherm.pressureUnits for isotherm in isotherms ]\n",
    "if len(set(pressure_units)) > 1:\n",
    "    print('ERROR: Incompatible pressure units in isotherms')\n",
    "    for (i,isotherm) in enumerate(isotherms):\n",
    "        print( '  Isotherm '+str(i+1)+\": \"+isotherm.pressureUnits )\n",
    "    raise ValueError(\"Incompatible pressure units in isotherms\")\n",
    "else:\n",
    "    print('Pressure units are compatible: '+list(set(pressure_units))[0] )\n",
    "    \n",
    "# Confirm that adsorption units are consistent\n",
    "adsorption_units = [ isotherm.adsorptionUnits for isotherm in isotherms ]\n",
    "if len(set(adsorption_units)) > 1:\n",
    "    print('ERROR: Incompatible adsorption units in isotherms')\n",
    "    for (i,isotherm) in enumerate(isotherms):\n",
    "        print( '  Isotherm '+str(i+1)+\": \"+isotherm.adsorptionUnits )\n",
    "    raise ValueError(\"Incompatible adsorption units in isotherms\")\n",
    "else:\n",
    "    print('Adsorption units are compatible: '+list(set(adsorption_units))[0] )\n",
    "\n",
    "# Confirm that the material is the same across the isotherms\n",
    "material_hashes = [ isotherm.adsorbent[\"hashkey\"] for isotherm in isotherms ]\n",
    "material_names = [ isotherm.adsorbent[\"Name\"] for isotherm in isotherms ]\n",
    "if len(set(material_hashes)) > 1:\n",
    "    \n",
    "    print( 'WARNING: Different Materials Specified' )\n",
    "    for (i,isotherm) in enumerate(isotherms):\n",
    "        print( '  Isotherm '+str(i+1)+\": \"+isotherm.adsorbent[\"Name\"] )\n",
    "else:\n",
    "    print( 'Same material is specified: '+list(set(material_names))[0] )\n",
    "    \n",
    "# List the adsorbates\n",
    "print()\n",
    "print( 'Adsorbate Species' )\n",
    "for (i,isotherm) in enumerate(isotherms):\n",
    "    print(' Species '+str(i+1)+\" : \"+isotherm.adsorbate[\"Name\"])\n",
    "\n",
    "# Check the composition list size\n",
    "print()\n",
    "if isotherm_type == \"Isopleth\":\n",
    "    if len(composition) != num_species:\n",
    "        print(\"ERROR: Mole Fraction list has incorrect size\")\n",
    "        print(\"Number of Species: \"+str(num_species))\n",
    "        print(\"Composition List: \"+str(composition))\n",
    "    else:\n",
    "        print(\"Composition list size matches number of species\")\n",
    "elif isotherm_type == \"Isobar\":\n",
    "    check = True\n",
    "    for (i,c) in enumerate(composition):\n",
    "        if len(c) != num_species:\n",
    "            print(\"ERROR: Mole Fraction list has incorrect size at line \"+str(i))\n",
    "            print(\"Number of Species: \"+str(num_species))\n",
    "            print(\"Composition List: \"+str(c))\n",
    "            check = False\n",
    "            break\n",
    "    if check:\n",
    "        print(\"Composition list size matches number of species\")\n",
    "else:\n",
    "    print(\"ERROR: Unknown isotherm type: \"+isotherm_type)\n",
    "    \n",
    "    \n",
    "# Check the composition vectors for completeness\n",
    "print()\n",
    "tolerance = 0.001 #Tolerance for sums over composition\n",
    "if isotherm_type == \"Isopleth\":\n",
    "    if np.abs(1.0-sum(composition)) > tolerance:\n",
    "        print(\"ERROR: Composition list does not add to 1.0 (within tolerance \"+str(tolerance)+\")\")\n",
    "    else:\n",
    "        print(\"Composition list meets numerical tolerance \"+str(tolerance))\n",
    "elif isotherm_type == \"Isobar\":\n",
    "    check = True\n",
    "    for (i,c) in enumerate(composition):\n",
    "        if np.abs(1.0-sum(c)) > tolerance:\n",
    "            print(\"ERROR: Composition list does not add to 1.0 (within tolerance \"+str(tolerance)+\")\")\n",
    "            print(\" at line \"+str(i))\n",
    "            print(\"Composition List: \"+str(c))\n",
    "            check = False\n",
    "            break\n",
    "    if check:\n",
    "        print(\"Composition list meets numerical tolerance \"+str(tolerance))\n",
    "else:\n",
    "    print(\"ERROR: Unknown isotherm type: \"+isotherm_type)"
   ]
  },
  {
   "cell_type": "markdown",
   "metadata": {},
   "source": [
    "## 6. Common pyIAST Operations"
   ]
  },
  {
   "cell_type": "code",
   "execution_count": 6,
   "metadata": {
    "collapsed": false
   },
   "outputs": [
    {
     "name": "stdout",
     "output_type": "stream",
     "text": [
      "10.1002chem.200902144.Isotherm4.json\n"
     ]
    },
    {
     "data": {
      "image/png": "[encoded data removed]",
      "text/plain": [
       "<matplotlib.figure.Figure at 0x7f5af51377f0>"
      ]
     },
     "metadata": {},
     "output_type": "display_data"
    },
    {
     "name": "stdout",
     "output_type": "stream",
     "text": [
      "10.1002chem.200902144.Isotherm5.json\n"
     ]
    },
    {
     "data": {
      "image/png": "[encoded data removed]",
      "text/plain": [
       "<matplotlib.figure.Figure at 0x7f5af1c2ac88>"
      ]
     },
     "metadata": {},
     "output_type": "display_data"
    },
    {
     "name": "stdout",
     "output_type": "stream",
     "text": [
      "10.1002chem.200902144.Isotherm6.json\n"
     ]
    },
    {
     "data": {
      "image/png": "[encoded data removed]",
      "text/plain": [
       "<matplotlib.figure.Figure at 0x7f5af1c80e80>"
      ]
     },
     "metadata": {},
     "output_type": "display_data"
    }
   ],
   "source": [
    "#Instructions: User must choose an isotherm model or select an interpolation option\n",
    "\n",
    "#List Models:\n",
    "#pyiast._MODELS\n",
    "\n",
    "#Compose dataframes from the single-component isotherm data; generate models in pyIAST and plot the data/fits\n",
    "Spec_Isotherms = []\n",
    "for isotherm,model in zip(isotherms,models):\n",
    "    #Option 1: Fit the single-component isotherms to the model(s) specified previously.\n",
    "    Spec_Isotherms.append(\n",
    "        pyiast.ModelIsotherm(\n",
    "            pd.DataFrame({ isotherm.p_label: isotherm.p_list, isotherm.ads_label: isotherm.ads_list }),\n",
    "            loading_key=isotherm.ads_label,\n",
    "            pressure_key=isotherm.p_label,\n",
    "            model=model)\n",
    "        )\n",
    "    #Option 2: Interpolate the single-component isotherm\n",
    "    #Spec_Isotherms.append(\n",
    "    #    pyiast.InterpolatorIsotherm(\n",
    "    #        pd.DataFrame({ isotherm.p_label: isotherm.p_list, isotherm.ads_label: isotherm.ads_list }),\n",
    "    #        loading_key=isotherm.ads_label,\n",
    "    #        pressure_key=isotherm.p_label)\n",
    "    #    )\n",
    "    print(isotherm.filename)\n",
    "    print(isotherm.adsorbate[\"Name\"]+' adsorption on '+isotherm.adsorbent[\"Name\"])\n",
    "    pyiast.plot_isotherm(Spec_Isotherms[-1],withfit=True,\n",
    "                         xlogscale=False)"
   ]
  },
  {
   "cell_type": "markdown",
   "metadata": {},
   "source": [
    "## 7a. Isopleth Calculation"
   ]
  },
  {
   "cell_type": "code",
   "execution_count": 7,
   "metadata": {
    "collapsed": false
   },
   "outputs": [
    {
     "name": "stderr",
     "output_type": "stream",
     "text": [
      "/opt/anaconda2/envs/py36/lib/python3.6/site-packages/isotherms.py:308: RuntimeWarning: invalid value encountered in log\n",
      "  return self.params[\"M\"] * np.log(1.0 + self.params[\"K\"] * pressure)\n"
     ]
    },
    {
     "data": {
      "image/png": "[encoded data removed]",
      "text/plain": [
       "<matplotlib.figure.Figure at 0x7f5af1b3c630>"
      ]
     },
     "metadata": {},
     "output_type": "display_data"
    },
    {
     "data": {
      "image/png": "[encoded data removed]",
      "text/plain": [
       "<matplotlib.figure.Figure at 0x7f5af1a6d4e0>"
      ]
     },
     "metadata": {},
     "output_type": "display_data"
    }
   ],
   "source": [
    "#Instructions: This code block will execute if isotherm_type=\"Isopleth\"\n",
    "\n",
    "#Option 1: Isopleth [Constant composition, varying pressure isotherm]\n",
    "if isotherm_type == 'Isopleth':\n",
    "    pmin = min(sum([isotherm.p_list for isotherm in isotherms],[]))\n",
    "    pmax = max(sum([isotherm.p_list for isotherm in isotherms],[]))\n",
    "    pressure = np.linspace(pmin,pmax,10)\n",
    "    spec_pairs = list(itertools.combinations(range(num_species), 2))\n",
    "\n",
    "    IAST_isotherm = []\n",
    "    selectivity_isotherm = []\n",
    "    for p in pressure:\n",
    "        partial_p = [ c*p for c in composition] #Assume ideality for computing partial pressures\n",
    "        Spec_loadings = pyiast.iast(partial_p,Spec_Isotherms,verboseflag=False,warningoff=True)\n",
    "        IAST_isotherm.append(list(Spec_loadings))\n",
    "\n",
    "        y = [ loading/sum(Spec_loadings) for loading in Spec_loadings ]\n",
    "        selectivity = [ [ (y[i]/composition[i])/(y[j]/composition[j]) \n",
    "                         for j in range(num_species) ] for i in range(num_species) ]\n",
    "        selectivity_isotherm.append( selectivity )\n",
    "        #print(p, Spec_loadings[0], Spec_loadings[1], Spec_loadings[2], selectivity[0][1], selectivity[0][2], selectivity[1][2])\n",
    "\n",
    "    fig = plt.figure()\n",
    "    for (j,isotherm) in enumerate(isotherms):\n",
    "        plt.plot(pressure,[ spec[j] for spec in IAST_isotherm ],'.-',label=isotherm.adsorbate[\"Name\"])\n",
    "    plt.xlabel(isotherms[0].p_label)\n",
    "    plt.ylabel(isotherms[0].ads_label)\n",
    "    plt.legend()\n",
    "    plt.show()\n",
    "\n",
    "    fig = plt.figure\n",
    "    for i,j in spec_pairs:\n",
    "        plt.plot(pressure, [s[i][j] for s in selectivity_isotherm], '.-', \n",
    "                 label=isotherms[i].adsorbate[\"Name\"]+'-'+isotherms[j].adsorbate[\"Name\"] )\n",
    "    plt.xlabel(isotherms[0].p_label)\n",
    "    plt.ylabel(r'Selectivity ($i/j$)')\n",
    "    plt.legend()\n",
    "    plt.show()"
   ]
  },
  {
   "cell_type": "markdown",
   "metadata": {},
   "source": [
    "## 7b. Isobar Calculation"
   ]
  },
  {
   "cell_type": "code",
   "execution_count": 8,
   "metadata": {
    "collapsed": false
   },
   "outputs": [],
   "source": [
    "#Instructions: This code block will execute if isotherm_type=\"Isobar\"\n",
    "\n",
    "#Option 2: Isobar [Constant pressure, varying composition isotherm]\n",
    "if isotherm_type == 'Isobar':\n",
    "    IAST_isotherm = []\n",
    "    selectivity_isotherm = []\n",
    "    for c in composition:\n",
    "        partial_p = [ Pressure*ci for ci in c ] #Assume ideality for computing partial pressures\n",
    "        Spec_loadings = pyiast.iast(partial_p,Spec_Isotherms,verboseflag=False,warningoff=True)\n",
    "        IAST_isotherm.append(list(Spec_loadings))\n",
    "\n",
    "        y = [ loading/sum(Spec_loadings) for loading in Spec_loadings ]\n",
    "        selectivity = [ [ (y[i]/c[i])/(y[j]/c[j]) \n",
    "                         for j in range(num_species) ] for i in range(num_species) ]\n",
    "        selectivity_isotherm.append(selectivity)\n",
    "        #print( c[0], c[1], c[2], Spec_loadings[0], Spec_loadings[1], Spec_loadings[2])\n",
    "        #print( c[0], c[1], c[2], y[0], y[1], y[2])\n",
    "        #print( c[0], c[1], c[2], selectivity[0][1], selectivity[0][2], selectivity[1][2])\n",
    "    \n",
    "    fig = plt.figure()\n",
    "    for (i,isotherm) in enumerate(isotherms):\n",
    "        plt.plot(xaxis,\n",
    "                 [spec[i] for spec in IAST_isotherm],\n",
    "                 '.-',label=isotherm.adsorbate[\"Name\"])\n",
    "    plt.xlabel(r'$x_1$')\n",
    "    plt.ylabel(isotherms[0].ads_label)\n",
    "    plt.text(0.0, 3.3, r'Pressure = '+str(Pressure)+' '+isotherms[0].p_label)\n",
    "    plt.legend()\n",
    "    plt.show()\n",
    "\n",
    "    fig = plt.figure\n",
    "    for i,j in spec_pairs:\n",
    "        plt.plot(xaxis,[s[i][j] for s in selectivity_isotherm], '.-', \n",
    "                 label=isotherms[i].adsorbate[\"Name\"]+'-'+isotherms[j].adsorbate[\"Name\"] )\n",
    "    plt.xlabel(r'$x_1$')\n",
    "    plt.ylabel(r'Selectivity ($i/j$)')\n",
    "    plt.text(0.5, 10.0, r'Pressure = '+str(Pressure)+' '+isotherms[0].p_label)\n",
    "    plt.legend()\n",
    "    plt.show()"
   ]
  }
 ],
 "metadata": {
  "kernelspec": {
   "display_name": "Python [conda env:py36]",
   "language": "python",
   "name": "conda-env-py36-py"
  },
  "language_info": {
   "codemirror_mode": {
    "name": "ipython",
    "version": 3
   },
   "file_extension": ".py",
   "mimetype": "text/x-python",
   "name": "python",
   "nbconvert_exporter": "python",
   "pygments_lexer": "ipython3",
   "version": "3.6.0"
  }
 },
 "nbformat": 4,
 "nbformat_minor": 2
}
